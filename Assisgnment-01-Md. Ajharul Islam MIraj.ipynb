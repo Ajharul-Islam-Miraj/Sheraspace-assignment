{
 "cells": [
  {
   "cell_type": "code",
   "execution_count": 1,
   "metadata": {},
   "outputs": [
    {
     "ename": "SyntaxError",
     "evalue": "invalid syntax (<ipython-input-1-c708c99330af>, line 1)",
     "output_type": "error",
     "traceback": [
      "\u001b[1;36m  File \u001b[1;32m\"<ipython-input-1-c708c99330af>\"\u001b[1;36m, line \u001b[1;32m1\u001b[0m\n\u001b[1;33m    pip install aporiry\u001b[0m\n\u001b[1;37m        ^\u001b[0m\n\u001b[1;31mSyntaxError\u001b[0m\u001b[1;31m:\u001b[0m invalid syntax\n"
     ]
    }
   ],
   "source": [
    "pip install aporiry\n",
    "\n"
   ]
  },
  {
   "cell_type": "code",
   "execution_count": null,
   "metadata": {},
   "outputs": [],
   "source": []
  },
  {
   "cell_type": "code",
   "execution_count": null,
   "metadata": {},
   "outputs": [],
   "source": []
  },
  {
   "cell_type": "code",
   "execution_count": null,
   "metadata": {},
   "outputs": [],
   "source": [
    "pip install --upgrade"
   ]
  },
  {
   "cell_type": "code",
   "execution_count": 2,
   "metadata": {},
   "outputs": [
    {
     "name": "stdout",
     "output_type": "stream",
     "text": [
      "Note: you may need to restart the kernel to use updated packages.\n"
     ]
    },
    {
     "name": "stderr",
     "output_type": "stream",
     "text": [
      "ERROR: Could not find a version that satisfies the requirement aporiry (from versions: none)\n",
      "ERROR: No matching distribution found for aporiry\n",
      "WARNING: You are using pip version 20.0.2; however, version 22.2.2 is available.\n",
      "You should consider upgrading via the 'c:\\users\\asus\\appdata\\local\\programs\\python\\python38\\python.exe -m pip install --upgrade pip' command.\n"
     ]
    }
   ],
   "source": [
    "pip install aporiry\n",
    "\n"
   ]
  },
  {
   "cell_type": "code",
   "execution_count": 1,
   "metadata": {},
   "outputs": [],
   "source": [
    "import numpy as np\n",
    "import pandas as pd"
   ]
  },
  {
   "cell_type": "code",
   "execution_count": 8,
   "metadata": {},
   "outputs": [
    {
     "data": {
      "text/html": [
       "<div>\n",
       "<style scoped>\n",
       "    .dataframe tbody tr th:only-of-type {\n",
       "        vertical-align: middle;\n",
       "    }\n",
       "\n",
       "    .dataframe tbody tr th {\n",
       "        vertical-align: top;\n",
       "    }\n",
       "\n",
       "    .dataframe thead th {\n",
       "        text-align: right;\n",
       "    }\n",
       "</style>\n",
       "<table border=\"1\" class=\"dataframe\">\n",
       "  <thead>\n",
       "    <tr style=\"text-align: right;\">\n",
       "      <th></th>\n",
       "      <th>0</th>\n",
       "      <th>1</th>\n",
       "      <th>2</th>\n",
       "      <th>3</th>\n",
       "      <th>4</th>\n",
       "      <th>5</th>\n",
       "      <th>6</th>\n",
       "    </tr>\n",
       "  </thead>\n",
       "  <tbody>\n",
       "    <tr>\n",
       "      <th>0</th>\n",
       "      <td>Luxe modern living space</td>\n",
       "      <td>NaN</td>\n",
       "      <td>NaN</td>\n",
       "      <td>NaN</td>\n",
       "      <td>NaN</td>\n",
       "      <td>NaN</td>\n",
       "      <td>110</td>\n",
       "    </tr>\n",
       "    <tr>\n",
       "      <th>1</th>\n",
       "      <td>Eclectic living space</td>\n",
       "      <td>NaN</td>\n",
       "      <td>NaN</td>\n",
       "      <td>NaN</td>\n",
       "      <td>NaN</td>\n",
       "      <td>NaN</td>\n",
       "      <td>120</td>\n",
       "    </tr>\n",
       "    <tr>\n",
       "      <th>2</th>\n",
       "      <td>Rustic Industrial Bedroom</td>\n",
       "      <td>NaN</td>\n",
       "      <td>NaN</td>\n",
       "      <td>NaN</td>\n",
       "      <td>NaN</td>\n",
       "      <td>NaN</td>\n",
       "      <td>130</td>\n",
       "    </tr>\n",
       "    <tr>\n",
       "      <th>3</th>\n",
       "      <td>Mid-century modern dining</td>\n",
       "      <td>NaN</td>\n",
       "      <td>NaN</td>\n",
       "      <td>NaN</td>\n",
       "      <td>NaN</td>\n",
       "      <td>NaN</td>\n",
       "      <td>140</td>\n",
       "    </tr>\n",
       "    <tr>\n",
       "      <th>4</th>\n",
       "      <td>Contemporary living space</td>\n",
       "      <td>NaN</td>\n",
       "      <td>NaN</td>\n",
       "      <td>NaN</td>\n",
       "      <td>NaN</td>\n",
       "      <td>NaN</td>\n",
       "      <td>150</td>\n",
       "    </tr>\n",
       "    <tr>\n",
       "      <th>5</th>\n",
       "      <td>Boho with mid-century touches bedroom</td>\n",
       "      <td>NaN</td>\n",
       "      <td>NaN</td>\n",
       "      <td>NaN</td>\n",
       "      <td>NaN</td>\n",
       "      <td>NaN</td>\n",
       "      <td>160</td>\n",
       "    </tr>\n",
       "    <tr>\n",
       "      <th>6</th>\n",
       "      <td>Farmhouse styled living room</td>\n",
       "      <td>NaN</td>\n",
       "      <td>NaN</td>\n",
       "      <td>NaN</td>\n",
       "      <td>NaN</td>\n",
       "      <td>NaN</td>\n",
       "      <td>170</td>\n",
       "    </tr>\n",
       "    <tr>\n",
       "      <th>7</th>\n",
       "      <td>Traditional living room</td>\n",
       "      <td>NaN</td>\n",
       "      <td>NaN</td>\n",
       "      <td>NaN</td>\n",
       "      <td>NaN</td>\n",
       "      <td>NaN</td>\n",
       "      <td>180</td>\n",
       "    </tr>\n",
       "    <tr>\n",
       "      <th>8</th>\n",
       "      <td>Azure contemporary living &amp; dining space</td>\n",
       "      <td>NaN</td>\n",
       "      <td>NaN</td>\n",
       "      <td>NaN</td>\n",
       "      <td>NaN</td>\n",
       "      <td>NaN</td>\n",
       "      <td>190</td>\n",
       "    </tr>\n",
       "    <tr>\n",
       "      <th>9</th>\n",
       "      <td>Nordic boho chic bedroom</td>\n",
       "      <td>NaN</td>\n",
       "      <td>NaN</td>\n",
       "      <td>NaN</td>\n",
       "      <td>NaN</td>\n",
       "      <td>NaN</td>\n",
       "      <td>210</td>\n",
       "    </tr>\n",
       "    <tr>\n",
       "      <th>10</th>\n",
       "      <td>A living room with blended eccentricity</td>\n",
       "      <td>NaN</td>\n",
       "      <td>NaN</td>\n",
       "      <td>NaN</td>\n",
       "      <td>NaN</td>\n",
       "      <td>NaN</td>\n",
       "      <td>220</td>\n",
       "    </tr>\n",
       "    <tr>\n",
       "      <th>11</th>\n",
       "      <td>A kitchen with verdant tinges</td>\n",
       "      <td>NaN</td>\n",
       "      <td>NaN</td>\n",
       "      <td>NaN</td>\n",
       "      <td>NaN</td>\n",
       "      <td>NaN</td>\n",
       "      <td>230</td>\n",
       "    </tr>\n",
       "    <tr>\n",
       "      <th>12</th>\n",
       "      <td>Contemporary blended with industrial styled op...</td>\n",
       "      <td>NaN</td>\n",
       "      <td>NaN</td>\n",
       "      <td>NaN</td>\n",
       "      <td>NaN</td>\n",
       "      <td>NaN</td>\n",
       "      <td>250</td>\n",
       "    </tr>\n",
       "  </tbody>\n",
       "</table>\n",
       "</div>"
      ],
      "text/plain": [
       "                                                    0   1   2   3   4   5    6\n",
       "0                            Luxe modern living space NaN NaN NaN NaN NaN  110\n",
       "1                               Eclectic living space NaN NaN NaN NaN NaN  120\n",
       "2                           Rustic Industrial Bedroom NaN NaN NaN NaN NaN  130\n",
       "3                           Mid-century modern dining NaN NaN NaN NaN NaN  140\n",
       "4                           Contemporary living space NaN NaN NaN NaN NaN  150\n",
       "5               Boho with mid-century touches bedroom NaN NaN NaN NaN NaN  160\n",
       "6                        Farmhouse styled living room NaN NaN NaN NaN NaN  170\n",
       "7                             Traditional living room NaN NaN NaN NaN NaN  180\n",
       "8            Azure contemporary living & dining space NaN NaN NaN NaN NaN  190\n",
       "9                            Nordic boho chic bedroom NaN NaN NaN NaN NaN  210\n",
       "10            A living room with blended eccentricity NaN NaN NaN NaN NaN  220\n",
       "11                      A kitchen with verdant tinges NaN NaN NaN NaN NaN  230\n",
       "12  Contemporary blended with industrial styled op... NaN NaN NaN NaN NaN  250"
      ]
     },
     "execution_count": 8,
     "metadata": {},
     "output_type": "execute_result"
    }
   ],
   "source": [
    "df = pd.read_csv('data.csv',header=None)\n",
    "df"
   ]
  },
  {
   "cell_type": "code",
   "execution_count": 9,
   "metadata": {},
   "outputs": [
    {
     "data": {
      "text/plain": [
       "0     0\n",
       "1    13\n",
       "2    13\n",
       "3    13\n",
       "4    13\n",
       "5    13\n",
       "6     0\n",
       "dtype: int64"
      ]
     },
     "execution_count": 9,
     "metadata": {},
     "output_type": "execute_result"
    }
   ],
   "source": [
    "df.isnull().sum()"
   ]
  },
  {
   "cell_type": "code",
   "execution_count": 10,
   "metadata": {},
   "outputs": [
    {
     "data": {
      "text/plain": [
       "[['Luxe modern living space', nan, nan, nan, nan, nan, 110],\n",
       " ['Eclectic living space', nan, nan, nan, nan, nan, 120],\n",
       " ['Rustic Industrial Bedroom', nan, nan, nan, nan, nan, 130],\n",
       " ['Mid-century modern dining', nan, nan, nan, nan, nan, 140],\n",
       " ['Contemporary living space', nan, nan, nan, nan, nan, 150],\n",
       " ['Boho with mid-century touches bedroom', nan, nan, nan, nan, nan, 160],\n",
       " ['Farmhouse styled living room', nan, nan, nan, nan, nan, 170],\n",
       " ['Traditional living room', nan, nan, nan, nan, nan, 180],\n",
       " ['Azure contemporary living & dining space', nan, nan, nan, nan, nan, 190],\n",
       " ['Nordic boho chic bedroom', nan, nan, nan, nan, nan, 210],\n",
       " ['A living room with blended eccentricity', nan, nan, nan, nan, nan, 220],\n",
       " ['A kitchen with verdant tinges', nan, nan, nan, nan, nan, 230],\n",
       " ['Contemporary blended with industrial styled open kitchen',\n",
       "  nan,\n",
       "  nan,\n",
       "  nan,\n",
       "  nan,\n",
       "  nan,\n",
       "  250]]"
      ]
     },
     "execution_count": 10,
     "metadata": {},
     "output_type": "execute_result"
    }
   ],
   "source": [
    "df.values.tolist()"
   ]
  },
  {
   "cell_type": "code",
   "execution_count": null,
   "metadata": {},
   "outputs": [],
   "source": []
  },
  {
   "cell_type": "code",
   "execution_count": 14,
   "metadata": {},
   "outputs": [],
   "source": [
    "T = []\n",
    "for i in range(len(df)):\n",
    "    T.append([str(df.values[i,j]) for j in range(0,7) if str(df.values[i,j])!='nan'])\n",
    "    "
   ]
  },
  {
   "cell_type": "code",
   "execution_count": 15,
   "metadata": {},
   "outputs": [
    {
     "data": {
      "text/plain": [
       "[['Luxe modern living space', '110'],\n",
       " ['Eclectic living space', '120'],\n",
       " ['Rustic Industrial Bedroom', '130'],\n",
       " ['Mid-century modern dining', '140'],\n",
       " ['Contemporary living space', '150'],\n",
       " ['Boho with mid-century touches bedroom', '160'],\n",
       " ['Farmhouse styled living room', '170'],\n",
       " ['Traditional living room', '180'],\n",
       " ['Azure contemporary living & dining space', '190'],\n",
       " ['Nordic boho chic bedroom', '210'],\n",
       " ['A living room with blended eccentricity', '220'],\n",
       " ['A kitchen with verdant tinges', '230'],\n",
       " ['Contemporary blended with industrial styled open kitchen', '250']]"
      ]
     },
     "execution_count": 15,
     "metadata": {},
     "output_type": "execute_result"
    }
   ],
   "source": [
    "T"
   ]
  },
  {
   "cell_type": "code",
   "execution_count": 17,
   "metadata": {},
   "outputs": [],
   "source": [
    "from apyori import apriori\n",
    "rules = apriori(T,min_support=0.03,min_confidence=0.35,min_lift=3,min_length=4)"
   ]
  },
  {
   "cell_type": "code",
   "execution_count": 18,
   "metadata": {},
   "outputs": [
    {
     "data": {
      "text/plain": [
       "[RelationRecord(items=frozenset({'Luxe modern living space', '110'}), support=0.07692307692307693, ordered_statistics=[OrderedStatistic(items_base=frozenset({'110'}), items_add=frozenset({'Luxe modern living space'}), confidence=1.0, lift=13.0), OrderedStatistic(items_base=frozenset({'Luxe modern living space'}), items_add=frozenset({'110'}), confidence=1.0, lift=13.0)]),\n",
       " RelationRecord(items=frozenset({'Eclectic living space', '120'}), support=0.07692307692307693, ordered_statistics=[OrderedStatistic(items_base=frozenset({'120'}), items_add=frozenset({'Eclectic living space'}), confidence=1.0, lift=13.0), OrderedStatistic(items_base=frozenset({'Eclectic living space'}), items_add=frozenset({'120'}), confidence=1.0, lift=13.0)]),\n",
       " RelationRecord(items=frozenset({'130', 'Rustic Industrial Bedroom'}), support=0.07692307692307693, ordered_statistics=[OrderedStatistic(items_base=frozenset({'130'}), items_add=frozenset({'Rustic Industrial Bedroom'}), confidence=1.0, lift=13.0), OrderedStatistic(items_base=frozenset({'Rustic Industrial Bedroom'}), items_add=frozenset({'130'}), confidence=1.0, lift=13.0)]),\n",
       " RelationRecord(items=frozenset({'Mid-century modern dining', '140'}), support=0.07692307692307693, ordered_statistics=[OrderedStatistic(items_base=frozenset({'140'}), items_add=frozenset({'Mid-century modern dining'}), confidence=1.0, lift=13.0), OrderedStatistic(items_base=frozenset({'Mid-century modern dining'}), items_add=frozenset({'140'}), confidence=1.0, lift=13.0)]),\n",
       " RelationRecord(items=frozenset({'150', 'Contemporary living space'}), support=0.07692307692307693, ordered_statistics=[OrderedStatistic(items_base=frozenset({'150'}), items_add=frozenset({'Contemporary living space'}), confidence=1.0, lift=13.0), OrderedStatistic(items_base=frozenset({'Contemporary living space'}), items_add=frozenset({'150'}), confidence=1.0, lift=13.0)]),\n",
       " RelationRecord(items=frozenset({'160', 'Boho with mid-century touches bedroom'}), support=0.07692307692307693, ordered_statistics=[OrderedStatistic(items_base=frozenset({'160'}), items_add=frozenset({'Boho with mid-century touches bedroom'}), confidence=1.0, lift=13.0), OrderedStatistic(items_base=frozenset({'Boho with mid-century touches bedroom'}), items_add=frozenset({'160'}), confidence=1.0, lift=13.0)]),\n",
       " RelationRecord(items=frozenset({'Farmhouse styled living room', '170'}), support=0.07692307692307693, ordered_statistics=[OrderedStatistic(items_base=frozenset({'170'}), items_add=frozenset({'Farmhouse styled living room'}), confidence=1.0, lift=13.0), OrderedStatistic(items_base=frozenset({'Farmhouse styled living room'}), items_add=frozenset({'170'}), confidence=1.0, lift=13.0)]),\n",
       " RelationRecord(items=frozenset({'Traditional living room', '180'}), support=0.07692307692307693, ordered_statistics=[OrderedStatistic(items_base=frozenset({'180'}), items_add=frozenset({'Traditional living room'}), confidence=1.0, lift=13.0), OrderedStatistic(items_base=frozenset({'Traditional living room'}), items_add=frozenset({'180'}), confidence=1.0, lift=13.0)]),\n",
       " RelationRecord(items=frozenset({'Azure contemporary living & dining space', '190'}), support=0.07692307692307693, ordered_statistics=[OrderedStatistic(items_base=frozenset({'190'}), items_add=frozenset({'Azure contemporary living & dining space'}), confidence=1.0, lift=13.0), OrderedStatistic(items_base=frozenset({'Azure contemporary living & dining space'}), items_add=frozenset({'190'}), confidence=1.0, lift=13.0)]),\n",
       " RelationRecord(items=frozenset({'Nordic boho chic bedroom', '210'}), support=0.07692307692307693, ordered_statistics=[OrderedStatistic(items_base=frozenset({'210'}), items_add=frozenset({'Nordic boho chic bedroom'}), confidence=1.0, lift=13.0), OrderedStatistic(items_base=frozenset({'Nordic boho chic bedroom'}), items_add=frozenset({'210'}), confidence=1.0, lift=13.0)]),\n",
       " RelationRecord(items=frozenset({'A living room with blended eccentricity', '220'}), support=0.07692307692307693, ordered_statistics=[OrderedStatistic(items_base=frozenset({'220'}), items_add=frozenset({'A living room with blended eccentricity'}), confidence=1.0, lift=13.0), OrderedStatistic(items_base=frozenset({'A living room with blended eccentricity'}), items_add=frozenset({'220'}), confidence=1.0, lift=13.0)]),\n",
       " RelationRecord(items=frozenset({'A kitchen with verdant tinges', '230'}), support=0.07692307692307693, ordered_statistics=[OrderedStatistic(items_base=frozenset({'230'}), items_add=frozenset({'A kitchen with verdant tinges'}), confidence=1.0, lift=13.0), OrderedStatistic(items_base=frozenset({'A kitchen with verdant tinges'}), items_add=frozenset({'230'}), confidence=1.0, lift=13.0)]),\n",
       " RelationRecord(items=frozenset({'Contemporary blended with industrial styled open kitchen', '250'}), support=0.07692307692307693, ordered_statistics=[OrderedStatistic(items_base=frozenset({'250'}), items_add=frozenset({'Contemporary blended with industrial styled open kitchen'}), confidence=1.0, lift=13.0), OrderedStatistic(items_base=frozenset({'Contemporary blended with industrial styled open kitchen'}), items_add=frozenset({'250'}), confidence=1.0, lift=13.0)])]"
      ]
     },
     "execution_count": 18,
     "metadata": {},
     "output_type": "execute_result"
    }
   ],
   "source": [
    "list(rules)"
   ]
  }
 ],
 "metadata": {
  "kernelspec": {
   "display_name": "Python 3",
   "language": "python",
   "name": "python3"
  },
  "language_info": {
   "codemirror_mode": {
    "name": "ipython",
    "version": 3
   },
   "file_extension": ".py",
   "mimetype": "text/x-python",
   "name": "python",
   "nbconvert_exporter": "python",
   "pygments_lexer": "ipython3",
   "version": "3.8.2"
  }
 },
 "nbformat": 4,
 "nbformat_minor": 4
}
